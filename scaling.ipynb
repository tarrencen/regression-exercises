{
 "cells": [
  {
   "cell_type": "code",
   "execution_count": 3,
   "metadata": {},
   "outputs": [],
   "source": [
    "import pandas as pd\n",
    "import numpy as np\n",
    "import matplotlib.pyplot as plt\n",
    "import seaborn as sns\n",
    "import sklearn.preprocessing as scale\n",
    "from wrangle import wrangle_zillow\n",
    "from scipy import stats\n",
    "from sklearn.model_selection import train_test_split\n",
    "\n",
    "import warnings\n",
    "warnings.filterwarnings('ignore')\n",
    "\n",
    "\n",
    "np.random.seed(302)"
   ]
  },
  {
   "cell_type": "code",
   "execution_count": 4,
   "metadata": {},
   "outputs": [
    {
     "name": "stdout",
     "output_type": "stream",
     "text": [
      "Reading from CSV file...\n",
      "<class 'pandas.core.frame.DataFrame'>\n",
      "Int64Index: 2140235 entries, 20 to 2982282\n",
      "Data columns (total 7 columns):\n",
      " #   Column        Dtype  \n",
      "---  ------        -----  \n",
      " 0   bedrooms      int64  \n",
      " 1   bathrooms     int64  \n",
      " 2   calcfin_sqft  int64  \n",
      " 3   tax_val       int64  \n",
      " 4   yr_built      int64  \n",
      " 5   tax_amt       float64\n",
      " 6   fips          int64  \n",
      "dtypes: float64(1), int64(6)\n",
      "memory usage: 130.6 MB\n"
     ]
    },
    {
     "data": {
      "text/html": [
       "<div>\n",
       "<style scoped>\n",
       "    .dataframe tbody tr th:only-of-type {\n",
       "        vertical-align: middle;\n",
       "    }\n",
       "\n",
       "    .dataframe tbody tr th {\n",
       "        vertical-align: top;\n",
       "    }\n",
       "\n",
       "    .dataframe thead th {\n",
       "        text-align: right;\n",
       "    }\n",
       "</style>\n",
       "<table border=\"1\" class=\"dataframe\">\n",
       "  <thead>\n",
       "    <tr style=\"text-align: right;\">\n",
       "      <th></th>\n",
       "      <th>bedrooms</th>\n",
       "      <th>bathrooms</th>\n",
       "      <th>calcfin_sqft</th>\n",
       "      <th>tax_val</th>\n",
       "      <th>yr_built</th>\n",
       "      <th>tax_amt</th>\n",
       "      <th>fips</th>\n",
       "    </tr>\n",
       "  </thead>\n",
       "  <tbody>\n",
       "    <tr>\n",
       "      <th>20</th>\n",
       "      <td>4</td>\n",
       "      <td>2</td>\n",
       "      <td>3633</td>\n",
       "      <td>296425</td>\n",
       "      <td>2005</td>\n",
       "      <td>6941.39</td>\n",
       "      <td>6037</td>\n",
       "    </tr>\n",
       "    <tr>\n",
       "      <th>31</th>\n",
       "      <td>3</td>\n",
       "      <td>4</td>\n",
       "      <td>1620</td>\n",
       "      <td>847770</td>\n",
       "      <td>2011</td>\n",
       "      <td>10244.94</td>\n",
       "      <td>6037</td>\n",
       "    </tr>\n",
       "    <tr>\n",
       "      <th>33</th>\n",
       "      <td>3</td>\n",
       "      <td>2</td>\n",
       "      <td>2077</td>\n",
       "      <td>646760</td>\n",
       "      <td>1926</td>\n",
       "      <td>7924.68</td>\n",
       "      <td>6037</td>\n",
       "    </tr>\n",
       "    <tr>\n",
       "      <th>62</th>\n",
       "      <td>0</td>\n",
       "      <td>0</td>\n",
       "      <td>1200</td>\n",
       "      <td>5328</td>\n",
       "      <td>1972</td>\n",
       "      <td>91.60</td>\n",
       "      <td>6037</td>\n",
       "    </tr>\n",
       "    <tr>\n",
       "      <th>97</th>\n",
       "      <td>0</td>\n",
       "      <td>0</td>\n",
       "      <td>171</td>\n",
       "      <td>6920</td>\n",
       "      <td>1973</td>\n",
       "      <td>255.17</td>\n",
       "      <td>6037</td>\n",
       "    </tr>\n",
       "  </tbody>\n",
       "</table>\n",
       "</div>"
      ],
      "text/plain": [
       "    bedrooms  bathrooms  calcfin_sqft  tax_val  yr_built   tax_amt  fips\n",
       "20         4          2          3633   296425      2005   6941.39  6037\n",
       "31         3          4          1620   847770      2011  10244.94  6037\n",
       "33         3          2          2077   646760      1926   7924.68  6037\n",
       "62         0          0          1200     5328      1972     91.60  6037\n",
       "97         0          0           171     6920      1973    255.17  6037"
      ]
     },
     "execution_count": 4,
     "metadata": {},
     "output_type": "execute_result"
    }
   ],
   "source": [
    "df = wrangle_zillow()\n",
    "df.info()\n",
    "df.head()"
   ]
  },
  {
   "cell_type": "code",
   "execution_count": 5,
   "metadata": {},
   "outputs": [
    {
     "data": {
      "text/plain": [
       "['Binarizer',\n",
       " 'FunctionTransformer',\n",
       " 'KBinsDiscretizer',\n",
       " 'KernelCenterer',\n",
       " 'LabelBinarizer',\n",
       " 'LabelEncoder',\n",
       " 'MaxAbsScaler',\n",
       " 'MinMaxScaler',\n",
       " 'MultiLabelBinarizer',\n",
       " 'Normalizer',\n",
       " 'OneHotEncoder',\n",
       " 'OrdinalEncoder',\n",
       " 'PolynomialFeatures',\n",
       " 'PowerTransformer',\n",
       " 'QuantileTransformer',\n",
       " 'RobustScaler',\n",
       " 'StandardScaler',\n",
       " '__all__',\n",
       " '__builtins__',\n",
       " '__cached__',\n",
       " '__doc__',\n",
       " '__file__',\n",
       " '__loader__',\n",
       " '__name__',\n",
       " '__package__',\n",
       " '__path__',\n",
       " '__spec__',\n",
       " '_csr_polynomial_expansion',\n",
       " '_data',\n",
       " '_discretization',\n",
       " '_encoders',\n",
       " '_function_transformer',\n",
       " '_label',\n",
       " 'add_dummy_feature',\n",
       " 'binarize',\n",
       " 'label_binarize',\n",
       " 'maxabs_scale',\n",
       " 'minmax_scale',\n",
       " 'normalize',\n",
       " 'power_transform',\n",
       " 'quantile_transform',\n",
       " 'robust_scale',\n",
       " 'scale']"
      ]
     },
     "execution_count": 5,
     "metadata": {},
     "output_type": "execute_result"
    }
   ],
   "source": [
    "# take a look inside the toolbox\n",
    "dir(scale)"
   ]
  },
  {
   "cell_type": "code",
   "execution_count": 6,
   "metadata": {},
   "outputs": [],
   "source": [
    "# split df, isolate target variable\n",
    "train, test = train_test_split(df, train_size=0.8, random_state= 302)\n",
    "train, validate = train_test_split(train, train_size=0.7, random_state= 302)\n",
    "\n",
    "X_train = train.drop(columns= ['tax_val'])\n",
    "y_train = train.tax_val\n",
    "\n",
    "X_validate = validate.drop(columns= ['tax_val'])\n",
    "y_validate = validate.tax_val\n",
    "\n",
    "X_test = test.drop(columns= ['tax_val'])\n",
    "y_test = test.tax_val"
   ]
  },
  {
   "cell_type": "markdown",
   "metadata": {},
   "source": [
    "### 1. Apply the scalers we talked about in this lesson to your data and visualize the results for the unscaled and scaled distribution ."
   ]
  },
  {
   "cell_type": "code",
   "execution_count": 10,
   "metadata": {},
   "outputs": [
    {
     "data": {
      "text/plain": [
       "Text(0.5, 1.0, 'Scaled - MinMax')"
      ]
     },
     "execution_count": 10,
     "metadata": {},
     "output_type": "execute_result"
    },
    {
     "data": {
      "image/png": "[encoded data removed]",
      "text/plain": [
       "<Figure size 1080x648 with 2 Axes>"
      ]
     },
     "metadata": {
      "needs_background": "light"
     },
     "output_type": "display_data"
    }
   ],
   "source": [
    "# set up, fit, and apply MinMaxScaler\n",
    "\n",
    "min_max = scale.MinMaxScaler()\n",
    "\n",
    "min_max.fit(X_train)\n",
    "\n",
    "X_train_mm_scaled = min_max.transform(X_train)\n",
    "X_validate_mm_scaled = min_max.transform(X_validate)\n",
    "X_test_mm_scaled = min_max.transform(X_test)\n",
    "\n",
    "plt.figure(figsize=(15,9))\n",
    "plt.subplot(121)\n",
    "plt.hist(X_train, bins=25, ec='black')\n",
    "plt.title('Original')\n",
    "\n",
    "plt.subplot(122)\n",
    "plt.hist(X_train_mm_scaled, bins=25, ec='black')\n",
    "plt.title('Scaled - MinMax')\n",
    "\n",
    "\n",
    "\n",
    "\n"
   ]
  },
  {
   "cell_type": "code",
   "execution_count": 13,
   "metadata": {},
   "outputs": [
    {
     "data": {
      "text/plain": [
       "Text(0.5, 1.0, 'Scaled - Standard')"
      ]
     },
     "execution_count": 13,
     "metadata": {},
     "output_type": "execute_result"
    },
    {
     "data": {
      "image/png": "[encoded data removed]",
      "text/plain": [
       "<Figure size 1080x648 with 2 Axes>"
      ]
     },
     "metadata": {
      "needs_background": "light"
     },
     "output_type": "display_data"
    }
   ],
   "source": [
    "stand_scale = scale.StandardScaler()\n",
    "\n",
    "stand_scale.fit(X_train)\n",
    "\n",
    "X_train_st_scaled = stand_scale.transform(X_train)\n",
    "X_validate_st_scaled = stand_scale.transform(X_validate)\n",
    "X_test_st_scaled = stand_scale.transform(X_test)\n",
    "\n",
    "plt.figure(figsize=(15,9))\n",
    "plt.subplot(121)\n",
    "plt.hist(X_train, bins=25, ec='black')\n",
    "plt.title('Original')\n",
    "\n",
    "plt.subplot(122)\n",
    "plt.hist(X_train_st_scaled, bins=25, ec='black')\n",
    "plt.title('Scaled - Standard')"
   ]
  },
  {
   "cell_type": "code",
   "execution_count": 14,
   "metadata": {},
   "outputs": [
    {
     "data": {
      "text/plain": [
       "Text(0.5, 1.0, 'Scaled - Robust')"
      ]
     },
     "execution_count": 14,
     "metadata": {},
     "output_type": "execute_result"
    },
    {
     "data": {
      "image/png": "[encoded data removed]",
      "text/plain": [
       "<Figure size 1080x648 with 2 Axes>"
      ]
     },
     "metadata": {
      "needs_background": "light"
     },
     "output_type": "display_data"
    }
   ],
   "source": [
    "robust_scale = scale.RobustScaler()\n",
    "robust_scale.fit(X_train)\n",
    "\n",
    "X_train_rob_scaled = robust_scale.transform(X_train)\n",
    "X_validate_rob_scaled = robust_scale.transform(X_validate)\n",
    "X_test_rob_scaled = robust_scale.transform(X_test)\n",
    "\n",
    "plt.figure(figsize=(15,9))\n",
    "plt.subplot(121)\n",
    "plt.hist(X_train, bins=25, ec='black')\n",
    "plt.title('Original')\n",
    "\n",
    "plt.subplot(122)\n",
    "plt.hist(X_train_rob_scaled, bins=25, ec='black')\n",
    "plt.title('Scaled - Robust')"
   ]
  },
  {
   "cell_type": "markdown",
   "metadata": {},
   "source": [
    "### 2. Apply the .inverse_transform method to your scaled data. Is the resulting dataset the exact same as the original data?"
   ]
  },
  {
   "cell_type": "code",
   "execution_count": 20,
   "metadata": {},
   "outputs": [
    {
     "name": "stdout",
     "output_type": "stream",
     "text": [
      "[[5.40000000e+01 6.40000000e+01 1.26692475e+09 4.27501000e+05\n",
      "  4.81805450e+09 4.52775000e+05]\n",
      " [5.40000000e+01 6.40000000e+01 1.48696958e+09 4.22126000e+05\n",
      "  5.44511817e+09 4.52775000e+05]\n",
      " [5.40000000e+01 6.40000000e+01 1.45743975e+09 4.22126000e+05\n",
      "  1.41879704e+09 4.52775000e+05]\n",
      " ...\n",
      " [3.60000000e+01 3.20000000e+01 7.77301201e+08 4.16321000e+05\n",
      "  3.57892315e+09 4.52775000e+05]\n",
      " [5.40000000e+01 6.40000000e+01 2.14138860e+09 4.33736000e+05\n",
      "  8.34987029e+09 4.54403000e+05]\n",
      " [5.40000000e+01 3.20000000e+01 1.79941418e+09 4.21696000e+05\n",
      "  1.30157952e+09 4.54403000e+05]]\n",
      "--------------------------------------\n",
      "         bedrooms  bathrooms  calcfin_sqft  yr_built  tax_amt  fips\n",
      "718935          3          2          1330      1980  5728.60  6037\n",
      "1858766         3          2          1561      1955  6474.17  6037\n",
      "411251          3          2          1530      1955  1686.93  6037\n",
      "2388252         3          1          1317      1947   967.03  6037\n",
      "2604217         2          1           768      1949  2575.99  6037\n",
      "--------------------------------------\n",
      "         bedrooms  bathrooms  calcfin_sqft  yr_built  tax_amt  fips\n",
      "1889515         3          1           816      1955  2711.33  6037\n",
      "1586258         4          2          2144      1923  1733.85  6037\n",
      "914890          2          1           816      1928  4255.29  6037\n",
      "2802815         3          2          2248      2009  9927.88  6059\n",
      "2099492         3          1          1889      1953  1547.56  6059\n"
     ]
    }
   ],
   "source": [
    "print(min_max.inverse_transform(X_train))\n",
    "print('--------------------------------------')\n",
    "print(X_train.head())\n",
    "print('--------------------------------------')\n",
    "print(X_train.tail())"
   ]
  },
  {
   "cell_type": "code",
   "execution_count": 21,
   "metadata": {},
   "outputs": [
    {
     "name": "stdout",
     "output_type": "stream",
     "text": [
      "[[6.09733840e+00 4.13231048e+00 1.84405425e+06 4.58175925e+04\n",
      "  4.42728387e+07 1.28969686e+05]\n",
      " [6.09733840e+00 4.13231048e+00 2.16401375e+06 4.52638474e+04\n",
      "  5.00341627e+07 1.28969686e+05]\n",
      " [6.09733840e+00 4.13231048e+00 2.12107546e+06 4.52638474e+04\n",
      "  1.30412034e+07 1.28969686e+05]\n",
      " ...\n",
      " [5.16513971e+00 3.15953372e+00 1.13210975e+06 4.46658027e+04\n",
      "  3.28879704e+07 1.28969686e+05]\n",
      " [6.09733840e+00 4.13231048e+00 3.11558160e+06 4.64599369e+04\n",
      "  7.67223909e+07 1.29417635e+05]\n",
      " [6.09733840e+00 3.15953372e+00 2.61832853e+06 4.52195478e+04\n",
      "  1.19642344e+07 1.29417635e+05]]\n",
      "--------------------------------------\n",
      "         bedrooms  bathrooms  calcfin_sqft  yr_built  tax_amt  fips\n",
      "718935          3          2          1330      1980  5728.60  6037\n",
      "1858766         3          2          1561      1955  6474.17  6037\n",
      "411251          3          2          1530      1955  1686.93  6037\n",
      "2388252         3          1          1317      1947   967.03  6037\n",
      "2604217         2          1           768      1949  2575.99  6037\n",
      "--------------------------------------\n",
      "         bedrooms  bathrooms  calcfin_sqft  yr_built  tax_amt  fips\n",
      "1889515         3          1           816      1955  2711.33  6037\n",
      "1586258         4          2          2144      1923  1733.85  6037\n",
      "914890          2          1           816      1928  4255.29  6037\n",
      "2802815         3          2          2248      2009  9927.88  6059\n",
      "2099492         3          1          1889      1953  1547.56  6059\n"
     ]
    }
   ],
   "source": [
    "print(stand_scale.inverse_transform(X_train))\n",
    "print('--------------------------------------')\n",
    "print(X_train.head())\n",
    "print('--------------------------------------')\n",
    "print(X_train.tail())"
   ]
  },
  {
   "cell_type": "code",
   "execution_count": 22,
   "metadata": {},
   "outputs": [
    {
     "name": "stdout",
     "output_type": "stream",
     "text": [
      "[[6.00000000e+00 4.00000000e+00 1.26645300e+06 5.54180000e+04\n",
      "  2.21624185e+07 1.38851000e+05]\n",
      " [6.00000000e+00 4.00000000e+00 1.48613400e+06 5.47430000e+04\n",
      "  2.50462945e+07 1.38851000e+05]\n",
      " [6.00000000e+00 4.00000000e+00 1.45665300e+06 5.47430000e+04\n",
      "  6.52917834e+06 1.38851000e+05]\n",
      " ...\n",
      " [5.00000000e+00 3.00000000e+00 7.77639000e+05 5.40140000e+04\n",
      "  1.64636333e+07 1.38851000e+05]\n",
      " [6.00000000e+00 4.00000000e+00 2.13947100e+06 5.62010000e+04\n",
      "  3.84052966e+07 1.39335000e+05]\n",
      " [6.00000000e+00 3.00000000e+00 1.79806200e+06 5.46890000e+04\n",
      "  5.99009309e+06 1.39335000e+05]]\n",
      "--------------------------------------\n",
      "         bedrooms  bathrooms  calcfin_sqft  yr_built  tax_amt  fips\n",
      "718935          3          2          1330      1980  5728.60  6037\n",
      "1858766         3          2          1561      1955  6474.17  6037\n",
      "411251          3          2          1530      1955  1686.93  6037\n",
      "2388252         3          1          1317      1947   967.03  6037\n",
      "2604217         2          1           768      1949  2575.99  6037\n",
      "--------------------------------------\n",
      "         bedrooms  bathrooms  calcfin_sqft  yr_built  tax_amt  fips\n",
      "1889515         3          1           816      1955  2711.33  6037\n",
      "1586258         4          2          2144      1923  1733.85  6037\n",
      "914890          2          1           816      1928  4255.29  6037\n",
      "2802815         3          2          2248      2009  9927.88  6059\n",
      "2099492         3          1          1889      1953  1547.56  6059\n"
     ]
    }
   ],
   "source": [
    "print(robust_scale.inverse_transform(X_train))\n",
    "print('--------------------------------------')\n",
    "print(X_train.head())\n",
    "print('--------------------------------------')\n",
    "print(X_train.tail())"
   ]
  },
  {
   "cell_type": "markdown",
   "metadata": {},
   "source": [
    "### 3. Read the documentation for sklearn's QuantileTransformer. Use normal for the output_distribution and apply this scaler to your data. Visualize the result of your data scaling."
   ]
  },
  {
   "cell_type": "code",
   "execution_count": 31,
   "metadata": {},
   "outputs": [
    {
     "data": {
      "image/png": "[encoded data removed]",
      "text/plain": [
       "<Figure size 1080x648 with 2 Axes>"
      ]
     },
     "metadata": {
      "needs_background": "light"
     },
     "output_type": "display_data"
    }
   ],
   "source": [
    "quant_scaler = scale.QuantileTransformer(output_distribution='normal')\n",
    "quant_scaler.fit(X_train)\n",
    "\n",
    "X_train_quant_scaled = quant_scaler.transform(X_train)\n",
    "\n",
    "plt.figure(figsize=(15,9))\n",
    "plt.subplot(131)\n",
    "plt.hist(X_train, bins=15, ec='black')\n",
    "plt.title('Original')\n",
    "\n",
    "plt.subplot(132)\n",
    "plt.hist(X_train_quant_scaled, bins=15, ec='black')\n",
    "plt.title('Scaled - Quantile, normal distribution')\n",
    "\n",
    "plt.tight_layout()\n"
   ]
  },
  {
   "cell_type": "code",
   "execution_count": 30,
   "metadata": {},
   "outputs": [
    {
     "data": {
      "image/png": "[encoded data removed]",
      "text/plain": [
       "<Figure size 1080x648 with 2 Axes>"
      ]
     },
     "metadata": {
      "needs_background": "light"
     },
     "output_type": "display_data"
    }
   ],
   "source": [
    "quant_scaler_uni = scale.QuantileTransformer()\n",
    "quant_scaler_uni.fit(X_train)\n",
    "\n",
    "X_train_quant_uni_scaled = quant_scaler_uni.transform(X_train)\n",
    "\n",
    "plt.figure(figsize=(15,9))\n",
    "plt.subplot(131)\n",
    "plt.hist(X_train, bins=15, ec='black')\n",
    "plt.title('Original')\n",
    "\n",
    "plt.subplot(132)\n",
    "plt.hist(X_train_quant_uni_scaled, bins=15, ec='black')\n",
    "plt.title('Scaled - Quantile, uniform distribution')\n",
    "\n",
    "plt.tight_layout()"
   ]
  }
 ],
 "metadata": {
  "interpreter": {
   "hash": "38cca0c38332a56087b24af0bc80247f4fced29cb4f7f437d91dc159adec9c4e"
  },
  "kernelspec": {
   "display_name": "Python 3.9.7 ('base')",
   "language": "python",
   "name": "python3"
  },
  "language_info": {
   "codemirror_mode": {
    "name": "ipython",
    "version": 3
   },
   "file_extension": ".py",
   "mimetype": "text/x-python",
   "name": "python",
   "nbconvert_exporter": "python",
   "pygments_lexer": "ipython3",
   "version": "3.9.7"
  },
  "orig_nbformat": 4
 },
 "nbformat": 4,
 "nbformat_minor": 2
}
